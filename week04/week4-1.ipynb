{
 "cells": [
  {
   "cell_type": "code",
   "execution_count": 2,
   "id": "957772c3-8090-486b-accb-bb48a454ecba",
   "metadata": {},
   "outputs": [],
   "source": [
    "#pip install pydantic"
   ]
  },
  {
   "cell_type": "code",
   "execution_count": 34,
   "id": "c0d3cd57-3f17-4704-a842-aec57611cbba",
   "metadata": {},
   "outputs": [
    {
     "name": "stdout",
     "output_type": "stream",
     "text": [
      "id=1 name='Jared Goff' age=None address=Address(street='some street', zip=12345)\n",
      "Jared Goff\n"
     ]
    }
   ],
   "source": [
    "from pydantic import BaseModel, Field\n",
    "\n",
    "class Address(BaseModel):\n",
    "    street: str\n",
    "    zip: int\n",
    "    \n",
    "class User(BaseModel):\n",
    "    id: int = Field(gt=0)\n",
    "    name: str = Field(default=\"Jared Goff\")\n",
    "    age: int | None = Field(None, description=\"Optional age\")\n",
    "    address: Address\n",
    "\n",
    "user = User(id=1, address=Address(street=\"some street\", zip=12345))\n",
    "print(user)\n",
    "print(user.name)\n",
    "\n",
    "assert user.name == \"Jared Goff\""
   ]
  },
  {
   "cell_type": "code",
   "execution_count": 39,
   "id": "451cbf92-2f56-4e7b-92ed-afe9a56b788b",
   "metadata": {},
   "outputs": [
    {
     "name": "stdout",
     "output_type": "stream",
     "text": [
      "1\n",
      "{'width': 1, 'height': 1, 'color': <Color.green: 'green'>}\n"
     ]
    }
   ],
   "source": [
    "from enum import Enum\n",
    "class Color(str, Enum):\n",
    "    red = \"red\"\n",
    "    green = \"green\"\n",
    "    blue = \"blue\"\n",
    "    \n",
    "class Rectangle(BaseModel):\n",
    "    width: float = Field(gt=0, default=1)\n",
    "    height: float = Field(gt=0, default=1)\n",
    "    color: Color\n",
    "\n",
    "    def area(self):\n",
    "        return self.width * self.height\n",
    "rect = Rectangle(color=\"green\")\n",
    "print(rect.area())\n",
    "print(rect.model_dump())"
   ]
  },
  {
   "cell_type": "code",
   "execution_count": null,
   "id": "9411b902-b7b0-4a1d-b1ad-2fe5f20e0278",
   "metadata": {},
   "outputs": [],
   "source": []
  }
 ],
 "metadata": {
  "kernelspec": {
   "display_name": "se-jupyter-kernel (Python 3.10.X | miniconda | ipykernel)",
   "language": "python",
   "name": "se-jupyter-kernel-310"
  },
  "language_info": {
   "codemirror_mode": {
    "name": "ipython",
    "version": 3
   },
   "file_extension": ".py",
   "mimetype": "text/x-python",
   "name": "python",
   "nbconvert_exporter": "python",
   "pygments_lexer": "ipython3",
   "version": "3.10.15"
  }
 },
 "nbformat": 4,
 "nbformat_minor": 5
}
